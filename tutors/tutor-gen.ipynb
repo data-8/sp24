{
 "cells": [
  {
   "cell_type": "code",
   "execution_count": 49,
   "metadata": {},
   "outputs": [
    {
     "data": {
      "text/html": [
       "<div>\n",
       "<style scoped>\n",
       "    .dataframe tbody tr th:only-of-type {\n",
       "        vertical-align: middle;\n",
       "    }\n",
       "\n",
       "    .dataframe tbody tr th {\n",
       "        vertical-align: top;\n",
       "    }\n",
       "\n",
       "    .dataframe thead th {\n",
       "        text-align: right;\n",
       "    }\n",
       "</style>\n",
       "<table border=\"1\" class=\"dataframe\">\n",
       "  <thead>\n",
       "    <tr style=\"text-align: right;\">\n",
       "      <th></th>\n",
       "      <th>email</th>\n",
       "      <th>nme</th>\n",
       "      <th>pronouns</th>\n",
       "      <th>photo</th>\n",
       "      <th>link</th>\n",
       "      <th>bio</th>\n",
       "      <th>role</th>\n",
       "    </tr>\n",
       "  </thead>\n",
       "  <tbody>\n",
       "    <tr>\n",
       "      <th>26</th>\n",
       "      <td>ishanibasak@berkeley.edu</td>\n",
       "      <td>Ishani Basak</td>\n",
       "      <td>she/her</td>\n",
       "      <td>https://drive.google.com/open?id=1pIp3zjCbnrAL...</td>\n",
       "      <td>NaN</td>\n",
       "      <td>Hi! I'm a third year studying in Data Science ...</td>\n",
       "      <td>Tutor (UCS1)</td>\n",
       "    </tr>\n",
       "  </tbody>\n",
       "</table>\n",
       "</div>"
      ],
      "text/plain": [
       "                       email           nme pronouns  \\\n",
       "26  ishanibasak@berkeley.edu  Ishani Basak  she/her   \n",
       "\n",
       "                                                photo link  \\\n",
       "26  https://drive.google.com/open?id=1pIp3zjCbnrAL...  NaN   \n",
       "\n",
       "                                                  bio          role  \n",
       "26  Hi! I'm a third year studying in Data Science ...  Tutor (UCS1)  "
      ]
     },
     "execution_count": 49,
     "metadata": {},
     "output_type": "execute_result"
    }
   ],
   "source": [
    "import pandas as pd, numpy as np, os\n",
    "staff = pd.read_csv('staff.csv')\n",
    "staff =  staff.iloc[:, [1, 6, 7, 8, 9, 10, 11]]\n",
    "staff.columns = [\"email\", \"nme\", \"pronouns\", \"photo\", \"link\", \"bio\", \"role\"]\n",
    "tutors = staff[staff.role == 'Tutor (UCS1)']\n",
    "tutors.head(1)"
   ]
  },
  {
   "cell_type": "code",
   "execution_count": 56,
   "metadata": {},
   "outputs": [
    {
     "data": {
      "text/plain": [
       "['aileen.md',\n",
       " 'jessica.md',\n",
       " 'rory.md',\n",
       " 'sunya.md',\n",
       " 'jonathan.md',\n",
       " 'raza.md',\n",
       " 'will.md',\n",
       " 'atticus.md',\n",
       " 'thomas.md',\n",
       " 'brandon_s.md',\n",
       " 'paul.md',\n",
       " 'arfa.md',\n",
       " 'sarah_s.md',\n",
       " 'sam.md',\n",
       " 'zach.md',\n",
       " 'dana.md',\n",
       " 'ramisha.md',\n",
       " 'dagny.md',\n",
       " 'conan.md',\n",
       " 'edwin.md',\n",
       " 'azalea.md',\n",
       " 'zackary.md',\n",
       " 'bianca.md',\n",
       " 'ella.md',\n",
       " 'cai.md',\n",
       " 'hailey.md',\n",
       " 'bing.md',\n",
       " 'sahand.md',\n",
       " 'kelsey.md',\n",
       " 'swupnil.md',\n",
       " 'sam_b.md',\n",
       " 'noah.md',\n",
       " 'kaed.md',\n",
       " 'gamy.md']"
      ]
     },
     "execution_count": 56,
     "metadata": {},
     "output_type": "execute_result"
    }
   ],
   "source": [
    "os.listdir(\"../_staffers/\")"
   ]
  },
  {
   "cell_type": "code",
   "execution_count": 59,
   "metadata": {},
   "outputs": [],
   "source": [
    "for tutor in tutors.iterrows():\n",
    "    tutor = tutor[1]\n",
    "    fn = f\"{tutor.nme.split()[0]}_{tutor.nme.split()[1][1]}.md\".lower()\n",
    "    tutor_str = f\"\"\"\n",
    "---\n",
    "email: {tutor.email}\n",
    "name: {tutor.nme}\n",
    "pronouns: {\"\" if pd.isnull(tutor.pronouns) else tutor.pronouns.upper()}\n",
    "photo: {tutor.photo}\n",
    "\"\"\"\n",
    "    if not pd.isnull(tutor.link):\n",
    "        tutor_str += f\"website: {tutor.link}\"\n",
    "    tutor_str += f\"\"\"role: {tutor.role}\n",
    "office-hours: TBA\n",
    "---\n",
    "\"\"\"\n",
    "    with open(f\"../_staffers/{fn}\", \"w\") as f:\n",
    "        f.write(tutor_str)"
   ]
  },
  {
   "cell_type": "code",
   "execution_count": null,
   "metadata": {},
   "outputs": [],
   "source": [
    ", "
   ]
  }
 ],
 "metadata": {
  "kernelspec": {
   "display_name": "Python 3",
   "language": "python",
   "name": "python3"
  },
  "language_info": {
   "codemirror_mode": {
    "name": "ipython",
    "version": 3
   },
   "file_extension": ".py",
   "mimetype": "text/x-python",
   "name": "python",
   "nbconvert_exporter": "python",
   "pygments_lexer": "ipython3",
   "version": "3.10.1"
  }
 },
 "nbformat": 4,
 "nbformat_minor": 2
}
