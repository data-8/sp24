{
 "cells": [
  {
   "cell_type": "code",
   "execution_count": 49,
   "metadata": {},
   "outputs": [
    {
     "data": {
      "text/html": [
       "<div>\n",
       "<style scoped>\n",
       "    .dataframe tbody tr th:only-of-type {\n",
       "        vertical-align: middle;\n",
       "    }\n",
       "\n",
       "    .dataframe tbody tr th {\n",
       "        vertical-align: top;\n",
       "    }\n",
       "\n",
       "    .dataframe thead th {\n",
       "        text-align: right;\n",
       "    }\n",
       "</style>\n",
       "<table border=\"1\" class=\"dataframe\">\n",
       "  <thead>\n",
       "    <tr style=\"text-align: right;\">\n",
       "      <th></th>\n",
       "      <th>email</th>\n",
       "      <th>nme</th>\n",
       "      <th>pronouns</th>\n",
       "      <th>photo</th>\n",
       "      <th>link</th>\n",
       "      <th>bio</th>\n",
       "      <th>role</th>\n",
       "    </tr>\n",
       "  </thead>\n",
       "  <tbody>\n",
       "    <tr>\n",
       "      <th>26</th>\n",
       "      <td>ishanibasak@berkeley.edu</td>\n",
       "      <td>Ishani Basak</td>\n",
       "      <td>she/her</td>\n",
       "      <td>https://drive.google.com/open?id=1pIp3zjCbnrAL...</td>\n",
       "      <td>NaN</td>\n",
       "      <td>Hi! I'm a third year studying in Data Science ...</td>\n",
       "      <td>Tutor (UCS1)</td>\n",
       "    </tr>\n",
       "  </tbody>\n",
       "</table>\n",
       "</div>"
      ],
      "text/plain": [
       "                       email           nme pronouns  \\\n",
       "26  ishanibasak@berkeley.edu  Ishani Basak  she/her   \n",
       "\n",
       "                                                photo link  \\\n",
       "26  https://drive.google.com/open?id=1pIp3zjCbnrAL...  NaN   \n",
       "\n",
       "                                                  bio          role  \n",
       "26  Hi! I'm a third year studying in Data Science ...  Tutor (UCS1)  "
      ]
     },
     "execution_count": 49,
     "metadata": {},
     "output_type": "execute_result"
    }
   ],
   "source": [
    "import pandas as pd, numpy as np, os\n",
    "staff = pd.read_csv('staff.csv')\n",
    "staff =  staff.iloc[:, [1, 6, 7, 8, 9, 10, 11]]\n",
    "staff.columns = [\"email\", \"nme\", \"pronouns\", \"photo\", \"link\", \"bio\", \"role\"]\n",
    "tutors = staff[staff.role == 'Tutor (UCS1)']\n",
    "tutors.head(1)"
   ]
  },
  {
   "cell_type": "code",
   "execution_count": 56,
   "metadata": {},
   "outputs": [
    {
     "data": {
      "text/plain": [
       "['aileen.md',\n",
       " 'jessica.md',\n",
       " 'rory.md',\n",
       " 'sunya.md',\n",
       " 'jonathan.md',\n",
       " 'raza.md',\n",
       " 'will.md',\n",
       " 'atticus.md',\n",
       " 'thomas.md',\n",
       " 'brandon_s.md',\n",
       " 'paul.md',\n",
       " 'arfa.md',\n",
       " 'sarah_s.md',\n",
       " 'sam.md',\n",
       " 'zach.md',\n",
       " 'dana.md',\n",
       " 'ramisha.md',\n",
       " 'dagny.md',\n",
       " 'conan.md',\n",
       " 'edwin.md',\n",
       " 'azalea.md',\n",
       " 'zackary.md',\n",
       " 'bianca.md',\n",
       " 'ella.md',\n",
       " 'cai.md',\n",
       " 'hailey.md',\n",
       " 'bing.md',\n",
       " 'sahand.md',\n",
       " 'kelsey.md',\n",
       " 'swupnil.md',\n",
       " 'sam_b.md',\n",
       " 'noah.md',\n",
       " 'kaed.md',\n",
       " 'gamy.md']"
      ]
     },
     "execution_count": 56,
     "metadata": {},
     "output_type": "execute_result"
    }
   ],
   "source": [
    "os.listdir(\"../_staffers/\")"
   ]
  },
  {
   "cell_type": "code",
   "execution_count": 57,
   "metadata": {},
   "outputs": [
    {
     "ename": "AttributeError",
     "evalue": "'float' object has no attribute 'upper'",
     "output_type": "error",
     "traceback": [
      "\u001b[0;31m---------------------------------------------------------------------------\u001b[0m",
      "\u001b[0;31mAttributeError\u001b[0m                            Traceback (most recent call last)",
      "\u001b[0;32m/var/folders/3k/k6qjt0ds37g89ylq_8dq2wwh0000gn/T/ipykernel_36260/1514707893.py\u001b[0m in \u001b[0;36m<cell line: 1>\u001b[0;34m()\u001b[0m\n\u001b[1;32m      6\u001b[0m \u001b[0memail\u001b[0m\u001b[0;34m:\u001b[0m \u001b[0;34m{\u001b[0m\u001b[0mtutor\u001b[0m\u001b[0;34m.\u001b[0m\u001b[0memail\u001b[0m\u001b[0;34m}\u001b[0m\u001b[0;34m\u001b[0m\u001b[0;34m\u001b[0m\u001b[0m\n\u001b[1;32m      7\u001b[0m \u001b[0mname\u001b[0m\u001b[0;34m:\u001b[0m \u001b[0;34m{\u001b[0m\u001b[0mtutor\u001b[0m\u001b[0;34m.\u001b[0m\u001b[0mnme\u001b[0m\u001b[0;34m}\u001b[0m\u001b[0;34m\u001b[0m\u001b[0;34m\u001b[0m\u001b[0m\n\u001b[0;32m----> 8\u001b[0;31m \u001b[0mpronouns\u001b[0m\u001b[0;34m:\u001b[0m \u001b[0;34m{\u001b[0m\u001b[0mtutor\u001b[0m\u001b[0;34m.\u001b[0m\u001b[0mpronouns\u001b[0m\u001b[0;34m.\u001b[0m\u001b[0mupper\u001b[0m\u001b[0;34m(\u001b[0m\u001b[0;34m)\u001b[0m\u001b[0;34m}\u001b[0m\u001b[0;34m\u001b[0m\u001b[0;34m\u001b[0m\u001b[0m\n\u001b[0m\u001b[1;32m      9\u001b[0m \u001b[0mphoto\u001b[0m\u001b[0;34m:\u001b[0m \u001b[0;34m{\u001b[0m\u001b[0mtutor\u001b[0m\u001b[0;34m.\u001b[0m\u001b[0mphoto\u001b[0m\u001b[0;34m}\u001b[0m\u001b[0;34m\u001b[0m\u001b[0;34m\u001b[0m\u001b[0m\n\u001b[1;32m     10\u001b[0m \"\"\"\n",
      "\u001b[0;31mAttributeError\u001b[0m: 'float' object has no attribute 'upper'"
     ]
    }
   ],
   "source": [
    "for tutor in tutors.iterrows():\n",
    "    tutor = tutor[1]\n",
    "    fn = f\"{tutor.nme.split()[0]}_{tutor.nme.split()[1][1]}.md\".lower()\n",
    "    tutor_str = f\"\"\"\n",
    "---\n",
    "email: {tutor.email}\n",
    "name: {tutor.nme}\n",
    "pronouns: {tutor.pronouns.upper()}\n",
    "photo: {tutor.photo}\n",
    "\"\"\"\n",
    "    if not pd.isnull(tutor.link):\n",
    "        tutor_str += f\"website: {tutor.link}\"\n",
    "    tutor_str += f\"\"\"role: {tutor.role}\n",
    "office-hours: TBA\n",
    "---\n",
    "\"\"\"\n",
    "    with open(f\"../_staffers/{fn}\", \"w\") as f:\n",
    "        f.write(tutor_str)"
   ]
  },
  {
   "cell_type": "code",
   "execution_count": null,
   "metadata": {},
   "outputs": [],
   "source": [
    ", "
   ]
  }
 ],
 "metadata": {
  "kernelspec": {
   "display_name": "Python 3",
   "language": "python",
   "name": "python3"
  },
  "language_info": {
   "codemirror_mode": {
    "name": "ipython",
    "version": 3
   },
   "file_extension": ".py",
   "mimetype": "text/x-python",
   "name": "python",
   "nbconvert_exporter": "python",
   "pygments_lexer": "ipython3",
   "version": "3.10.1"
  }
 },
 "nbformat": 4,
 "nbformat_minor": 2
}
